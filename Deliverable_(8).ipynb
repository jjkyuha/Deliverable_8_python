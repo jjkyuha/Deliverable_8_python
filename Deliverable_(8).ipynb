{
  "nbformat": 4,
  "nbformat_minor": 0,
  "metadata": {
    "colab": {
      "provenance": []
    },
    "kernelspec": {
      "name": "python3",
      "display_name": "Python 3"
    },
    "language_info": {
      "name": "python"
    }
  },
  "cells": [
    {
      "cell_type": "code",
      "source": [
        "import random"
      ],
      "metadata": {
        "id": "DymWChE_ckRZ"
      },
      "execution_count": 14,
      "outputs": []
    },
    {
      "cell_type": "code",
      "source": [
        "def populate_list(length):\n",
        "  return [random.randint(10,50) for _ in range(length)]"
      ],
      "metadata": {
        "id": "vXuTV62hcnvq"
      },
      "execution_count": 21,
      "outputs": []
    },
    {
      "cell_type": "code",
      "source": [
        "def sum_list(lst):\n",
        "  return sum(lst)"
      ],
      "metadata": {
        "id": "sIQzyyEVdKnT"
      },
      "execution_count": 26,
      "outputs": []
    },
    {
      "cell_type": "code",
      "source": [
        "while True:\n",
        "  user_entry = int(input(\"Enter an integer between 5 and 15: \"))\n",
        "  if user_entry >= 5 and user_entry <= 15:\n",
        "    break"
      ],
      "metadata": {
        "colab": {
          "base_uri": "https://localhost:8080/"
        },
        "id": "vQApY3Bldlw1",
        "outputId": "f653a94f-f90c-49fa-9e68-7a2659a7fd84"
      },
      "execution_count": 35,
      "outputs": [
        {
          "name": "stdout",
          "output_type": "stream",
          "text": [
            "Enter an integer between 5 and 15: 5\n"
          ]
        }
      ]
    },
    {
      "cell_type": "code",
      "source": [
        "lst = populate_list(user_entry)\n",
        "print(\"The elements of the array are:\", \" \".join(str(x) for x in lst))"
      ],
      "metadata": {
        "colab": {
          "base_uri": "https://localhost:8080/"
        },
        "id": "msM54lm1d9Uk",
        "outputId": "e4c3a93f-86ec-4eed-f299-dffddfe0fa81"
      },
      "execution_count": 52,
      "outputs": [
        {
          "output_type": "stream",
          "name": "stdout",
          "text": [
            "The elements of the array are: 40 19 36 29 29\n"
          ]
        }
      ]
    },
    {
      "cell_type": "code",
      "source": [
        "total_sum = sum_list(lst)\n",
        "print(\"The sum is:\", total_sum)"
      ],
      "metadata": {
        "colab": {
          "base_uri": "https://localhost:8080/"
        },
        "id": "jCQgLoKceC5V",
        "outputId": "b828a6c0-e635-40f8-cebe-16546a4e0ab1"
      },
      "execution_count": 53,
      "outputs": [
        {
          "output_type": "stream",
          "name": "stdout",
          "text": [
            "The sum is: 153\n"
          ]
        }
      ]
    }
  ]
}